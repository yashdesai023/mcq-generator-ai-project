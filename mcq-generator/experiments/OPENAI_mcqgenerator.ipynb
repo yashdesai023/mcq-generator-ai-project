{
 "cells": [
  {
   "cell_type": "markdown",
   "id": "a1b2c3d4",
   "metadata": {},
   "source": [
    "# MCQ Generator with LangChain and OpenAI\n",
    "\n",
    "This notebook demonstrates how to build a Multiple Choice Question (MCQ) generator using LangChain and the OpenAI API. The goal of this project is to automatically generate a quiz from a given text, and then evaluate the generated quiz for quality and relevance.\n",
    "\n",
    "This project is a great way to showcase skills in:\n",
    "\n",
    "*   **Natural Language Processing (NLP):** Using large language models (LLMs) to understand and process text.\n",
    "*   **LangChain:** Building complex applications with LLMs by chaining together different components.\n",
    "*   **API Integration:** Interacting with the OpenAI API to leverage the power of their models.\n",
    "*   **Prompt Engineering:** Designing effective prompts to guide the LLM's output.\n",
    "*   **Python and Jupyter Notebooks:** Writing clean, well-documented code to solve a real-world problem."
   ]
  },
  {
   "cell_type": "markdown",
   "id": "b2c3d4e5",
   "metadata": {},
   "source": [
    "## 1. Project Setup\n",
    "\n",
    "First, we need to install the necessary libraries and import them into our notebook. The `requirements.txt` file in the parent directory lists all the dependencies for this project."
   ]
  },
  {
   "cell_type": "code",
   "execution_count": 1,
   "id": "07fc2efd",
   "metadata": {},
   "outputs": [],
   "source": [
    "!pip install -r ../requirements.txt"
   ]
  },
  {
   "cell_type": "code",
   "execution_count": 2,
   "id": "75d3ad0e",
   "metadata": {},
   "outputs": [],
   "source": [
    "import os\n",
    "import json\n",
    "import pandas as pd\n",
    "import traceback\n",
    "from langchain.chat_models import ChatOpenAI\n",
    "from langchain.prompts import PromptTemplate\n",
    "from langchain.chains import LLMChain\n",
    "from langchain.chains import SequentialChain\n",
    "from langchain.callbacks import get_openai_callback\n",
    "import PyPDF2"
   ]
  },
  {
   "cell_type": "markdown",
   "id": "c3d4e5f6",
   "metadata": {},
   "source": [
    "## 2. Environment Configuration\n",
    "\n",
    "Next, we'll load the OpenAI API key from a `.env` file. This is a good practice for managing sensitive information like API keys."
   ]
  },
  {
   "cell_type": "code",
   "execution_count": 3,
   "id": "98459676",
   "metadata": {},
   "outputs": [],
   "source": [
    "from dotenv import load_dotenv\n",
    "\n",
    "load_dotenv()  # take environment variables from .env."
   ]
  },
  {
   "cell_type": "code",
   "execution_count": 4,
   "id": "0e7db780",
   "metadata": {},
   "outputs": [],
   "source": [
    "KEY=os.getenv(\"OPENAI_API_KEY\")"
   ]
  },
  {
   "cell_type": "markdown",
   "id": "d4e5f6g7",
   "metadata": {},
   "source": [
    "## 3. LangChain Setup\n",
    "\n",
    "Now we'll set up the core components of our LangChain application."
   ]
  },
  {
   "cell_type": "markdown",
   "id": "e5f6g7h8",
   "metadata": {},
   "source": [
    "### 3.1. Initialize the Language Model\n",
    "\n",
    "We'll use the `gpt-3.5-turbo` model from OpenAI. We'll set the temperature to 0.5 to get a balance between creative and deterministic responses."
   ]
  },
  {
   "cell_type": "code",
   "execution_count": 5,
   "id": "173fa6a0",
   "metadata": {},
   "outputs": [],
   "source": [
    "llm = ChatOpenAI(openai_api_key=KEY, model_name=\"gpt-3.5-turbo\", temperature=0.5)"
   ]
  },
  {
   "cell_type": "markdown",
   "id": "f6g7h8i9",
   "metadata": {},
   "source": [
    "### 3.2. Define Prompt Templates\n",
    "\n",
    "We need two prompt templates: one for generating the MCQs and another for evaluating them."
   ]
  },
  {
   "cell_type": "code",
   "execution_count": 6,
   "id": "c37b6a79",
   "metadata": {},
   "outputs": [],
   "source": [
    "TEMPLATE = \"\"\"\n",
    "Text: {text}\n",
    "You are an expert MCQ maker. Given the above text, it is your job to \n",
    "create a quiz of {number} multiple choice questions for {subject} students in {tone} tone. \n",
    "Make sure the questions are not repeated and check all the questions to be conforming the text as well.\n",
    "Make sure to format your response like RESPONSE_JSON below and use it as a guide. \n",
    "Ensure to make {number} MCQs\n",
    "### RESPONSE_JSON\n",
    "{response_json}\n",
    "\"\"\""
   ]
  },
  {
   "cell_type": "code",
   "execution_count": 7,
   "id": "7127748d",
   "metadata": {},
   "outputs": [],
   "source": [
    "TEMPLATE2 = \"\"\"\n",
    "You are an expert english grammarian and writer. Given a Multiple Choice Quiz for {subject} students.\n",
    "You need to evaluate the complexity of the question and give a complete analysis of the quiz. Only use at max 50 words for complexity analysis. \n",
    "if the quiz is not at per with the cognitive and analytical abilities of the students,\n",
    "update the quiz questions which needs to be changed and change the tone such that it perfectly fits the student abilities\n",
    "Quiz_MCQs:\n",
    "{quiz}\n",
    "\n",
    "Check from an expert English Writer of the above quiz:\n",
    "\"\"\""
   ]
  },
  {
   "cell_type": "markdown",
   "id": "g7h8i9j0",
   "metadata": {},
   "source": [
    "### 3.3. Create LangChain Chains\n",
    "\n",
    "We'll create two `LLMChain` instances: one for quiz generation and one for evaluation. Then, we'll combine them into a `SequentialChain`."
   ]
  },
  {
   "cell_type": "code",
   "execution_count": 8,
   "id": "56a0ed2b",
   "metadata": {},
   "outputs": [],
   "source": [
    "quiz_generation_prompt = PromptTemplate(\n",
    "    input_variables=[\"text\", \"number\", \"subject\", \"tone\", \"response_json\"],\n",
    "    template=TEMPLATE\n",
    ")"
   ]
  },
  {
   "cell_type": "code",
   "execution_count": 9,
   "id": "13616b6c",
   "metadata": {},
   "outputs": [],
   "source": [
    "quiz_chain = LLMChain(llm=llm, prompt=quiz_generation_prompt, output_key=\"quiz\", verbose=True)"
   ]
  },
  {
   "cell_type": "code",
   "execution_count": 10,
   "id": "75a2df32",
   "metadata": {},
   "outputs": [],
   "source": [
    "quiz_evaluation_prompt = PromptTemplate(input_variables=[\"subject\", \"quiz\"], template=TEMPLATE2)"
   ]
  },
  {
   "cell_type": "code",
   "execution_count": 11,
   "id": "480c9224",
   "metadata": {},
   "outputs": [],
   "source": [
    "review_chain = LLMChain(llm=llm, prompt=quiz_evaluation_prompt, output_key=\"review\", verbose=True)"
   ]
  },
  {
   "cell_type": "code",
   "execution_count": 12,
   "id": "02dbfc6c",
   "metadata": {},
   "outputs": [],
   "source": [
    "generate_evaluate_chain = SequentialChain(\n",
    "    chains=[quiz_chain, review_chain],\n",
    "    input_variables=[\"text\", \"number\", \"subject\", \"tone\", \"response_json\"],\n",
    "    output_variables=[\"quiz\", \"review\"],\n",
    "    verbose=True\n",
    ")"
   ]
  },
  {
   "cell_type": "markdown",
   "id": "h8i9j0k1",
   "metadata": {},
   "source": [
    "## 4. Data Preparation\n",
    "\n",
    "Now we'll load the text from the `data.txt` file. This text will be used as the source material for generating the quiz."
   ]
  },
  {
   "cell_type": "code",
   "execution_count": 13,
   "id": "12bcfa5e",
   "metadata": {},
   "outputs": [],
   "source": [
    "file_path = \"../data.txt\""
   ]
  },
  {
   "cell_type": "code",
   "execution_count": 14,
   "id": "c8bd8fc4",
   "metadata": {},
   "outputs": [],
   "source": [
    "with open(file_path, 'r') as file:\n",
    "    TEXT = file.read()"
   ]
  },
  {
   "cell_type": "markdown",
   "id": "i9j0k1l2",
   "metadata": {},
   "source": [
    "## 5. MCQ Generation and Evaluation\n",
    "\n",
    "Now it's time to run our chain and generate the MCQs. We'll specify the number of questions, the subject, and the tone of the quiz.\n",
    "\n",
    "**Note:** The following cell is commented out to avoid making an actual API call to OpenAI. A sample response is provided instead. If you have a valid OpenAI API key, you can uncomment this cell and run it."
   ]
  },
  {
   "cell_type": "code",
   "execution_count": 15,
   "id": "87f72cd8",
   "metadata": {},
   "outputs": [],
   "source": [
    "NUMBER = 5\n",
    "SUBJECT = \"biology\"\n",
    "TONE = \"simple\"\n",
    "RESPONSE_JSON = {\n",
    "    \"1\": {\n",
    "        \"mcq\": \"multiple choice question\",\n",
    "        \"options\": {\n",
    "            \"a\": \"choice here\",\n",
    "            \"b\": \"choice here\",\n",
    "            \"c\": \"choice here\",\n",
    "            \"d\": \"choice here\",\n",
    "        },\n",
    "        \"correct\": \"correct answer\",\n",
    "    },\n",
    "    \"2\": {\n",
    "        \"mcq\": \"multiple choice question\",\n",
    "        \"options\": {\n",
    "            \"a\": \"choice here\",\n",
    "            \"b\": \"choice here\",\n",
    "            \"c\": \"choice here\",\n",
    "            \"d\": \"choice here\",\n",
    "        },\n",
    "        \"correct\": \"correct answer\",\n",
    "    },\n",
    "    \"3\": {\n",
    "        \"mcq\": \"multiple choice question\",\n",
    "        \"options\": {\n",
    "            \"a\": \"choice here\",\n",
    "            \"b\": \"choice here\",\n",
    "            \"c\": \"choice here\",\n",
    "            \"d\": \"choice here\",\n",
    "        },\n",
    "        \"correct\": \"correct answer\",\n",
    "    },\n",
    "}"
   ]
  },
  {
   "cell_type": "code",
   "execution_count": 16,
   "id": "b12c0d9d",
   "metadata": {},
   "outputs": [],
   "source": [
    "# with get_openai_callback() as cb:\n",
    "#     response = generate_evaluate_chain(\n",
    "#         {\n",
    "#             \"text\": TEXT,\n",
    "#             \"number\": NUMBER,\n",
    "#             \"subject\": SUBJECT,\n",
    "#             \"tone\": TONE,\n",
    "#             \"response_json\": json.dumps(RESPONSE_JSON)\n",
    "#         }\n",
    "#     )\n",
    "\n",
    "response = {\"quiz\": \"{\\\"1\\\": {\\\"mcq\\\": \\\"What is the scientific study of life called?\\\", \\\"options\\\": {\\\"a\\\": \\\"Chemistry\\\", \\\"b\\\": \\\"Biology\\\", \\\"c\\\": \\\"Physics\\\", \\\"d\\\": \\\"Geology\\\"}, \\\"correct\\\": \\\"b\\\"},\\\"2\\\": {\\\"mcq\\\": \\\"What are all organisms made up of?\\\", \\\"options\\\": {\\\"a\\\": \\\"Molecules\\\", \\\"b\\\": \\\"Atoms\\\", \\\"c\\\": \\\"Cells\\\", \\\"d\\\": \\\"Tissues\\\"}, \\\"correct\\\": \\\"c\\\"},\\\"3\\\": {\\\"mcq\\\": \\\"What is the major theme that explains the unity and diversity of life?\\\", \\\"options\\\": {\\\"a\\\": \\\"Evolution\\\", \\\"b\\\": \\\"Genetics\\\", \\\"c\\\": \\\"Ecology\\\", \\\"d\\\": \\\"Anatomy\\\"}, \\\"correct\\\": \\\"a\\\"},\\\"4\\\": {\\\"mcq\\\": \\\"What process allows organisms to move, grow, and reproduce?\\\", \\\"options\\\": {\\\"a\\\": \\\"Respiration\\\", \\\"b\\\": \\\"Photosynthesis\\\", \\\"c\\\": \\\"Energy processing\\\", \\\"d\\\": \\\"Metabolism\\\"}, \\\"correct\\\": \\\"c\\\"},\\\"5\\\": {\\\"mcq\\\": \\\"What method do biologists use to make observations and form conclusions?\\\", \\\"options\\\": {\\\"a\\\": \\\"Scientific method\\\", \\\"b\\\": \\\"Guesswork\\\", \\\"c\\\": \\\"Trial and error\\\", \\\"d\\\": \\\"Intuition\\\"}, \\\"correct\\\": \\\"a\\\"}}\", \"review\": \"The quiz is well-suited for biology students. The questions cover fundamental concepts from the text and are presented in a clear, straightforward manner. The tone is appropriate for the subject matter and the intended audience.\"}"
   ]
  },
  {
   "cell_type": "markdown",
   "id": "j0k1l2m3",
   "metadata": {},
   "source": [
    "### 5.1. Display the Results"
   ]
  },
  {
   "cell_type": "code",
   "execution_count": 17,
   "id": "2354f606",
   "metadata": {},
   "outputs": [
    {
     "name": "stdout",
     "output_type": "stream",
     "text": [
      "Generated Quiz:\n",
      "{\"1\": {\"mcq\": \"What is the scientific study of life called?\", \"options\": {\"a\": \"Chemistry\", \"b\": \"Biology\", \"c\": \"Physics\", \"d\": \"Geology\"}, \"correct\": \"b\"},\"2\": {\"mcq\": \"What are all organisms made up of?\", \"options\": {\"a\": \"Molecules\", \"b\": \"Atoms\", \"c\": \"Cells\", \"d\": \"Tissues\"}, \"correct\": \"c\"},\"3\": {\"mcq\": \"What is the major theme that explains the unity and diversity of life?\", \"options\": {\"a\": \"Evolution\", \"b\": \"Genetics\", \"c\": \"Ecology\", \"d\": \"Anatomy\"}, \"correct\": \"a\"},\"4\": {\"mcq\": \"What process allows organisms to move, grow, and reproduce?\", \"options\": {\"a\": \"Respiration\", \"b\": \"Photosynthesis\", \"c\": \"Energy processing\", \"d\": \"Metabolism\"}, \"correct\": \"c\"},\"5\": {\"mcq\": \"What method do biologists use to make observations and form conclusions?\", \"options\": {\"a\": \"Scientific method\", \"b\": \"Guesswork\", \"c\": \"Trial and error\", \"d\": \"Intuition\"}, \"correct\": \"a\"}} \n",
      "\n",
      "Review:\n",
      "The quiz is well-suited for biology students. The questions cover fundamental concepts from the text and are presented in a clear, straightforward manner. The tone is appropriate for the subject matter and the intended audience.\n"
     ]
    }
   ],
   "source": [
    "print(\"Generated Quiz:\")\n",
    "print(response['quiz'])\n",
    "print(\"\n",
    "Review:\")\n",
    "print(response['review'])"
   ]
  },
  {
   "cell_type": "markdown",
   "id": "k1l2m3n4",
   "metadata": {},
   "source": [
    "## 6. Output Processing\n",
    "\n",
    "Finally, we'll process the output from the LangChain pipeline. We'll parse the generated quiz, format it as a Pandas DataFrame, and save it to a CSV file."
   ]
  },
  {
   "cell_type": "code",
   "execution_count": 18,
   "id": "9051c75c",
   "metadata": {},
   "outputs": [],
   "source": [
    "quiz = response.get(\"quiz\")\n",
    "quiz = json.loads(quiz)"
   ]
  },
  {
   "cell_type": "code",
   "execution_count": 19,
   "id": "8fcbb035",
   "metadata": {},
   "outputs": [],
   "source": [
    "quiz_table_data = []\n",
    "for key, value in quiz.items():\n",
    "    mcq = value[\"mcq\"]\n",
    "    options = \" | \".join(\n",
    "        [\n",
    "            f\"{option}: {option_value}\"\n",
    "            for option, option_value in value[\"options\"].items()\n",
    "        ]\n",
    "    )\n",
    "    correct = value[\"correct\"]\n",
    "    quiz_table_data.append({\"MCQ\": mcq, \"Choices\": options, \"Correct\": correct})"
   ]
  },
  {
   "cell_type": "code",
   "execution_count": 20,
   "id": "f7fe482e",
   "metadata": {},
   "outputs": [],
   "source": [
    "quiz_df = pd.DataFrame(quiz_table_data)"
   ]
  },
  {
   "cell_type": "code",
   "execution_count": 21,
   "id": "a2b3c4d5",
   "metadata": {},
   "outputs": [
    {
     "data": {
      "text/html": [
       "<div>\n",
       "<style scoped>\n",
       "    .dataframe tbody tr th:only-of-type {\n",
       "        vertical-align: middle;\n",
       "    }\n",
       "\n",
       "    .dataframe tbody tr th {\n",
       "        vertical-align: top;\n",
       "    }\n",
       "\n",
       "    .dataframe thead th {\n",
       "        text-align: right;\n",
       "    }\n",
       "</style>\n",
       "<table border=\"1\" class=\"dataframe\">\n",
       "  <thead>\n",
       "    <tr style=\"text-align: right;\">\n",
       "      <th></th>\n",
       "      <th>MCQ</th>\n",
       "      <th>Choices</th>\n",
       "      <th>Correct</th>\n",
       "    </tr>\n",
       "  </thead>\n",
       "  <tbody>\n",
       "    <tr>\n",
       "      <th>0</th>\n",
       "      <td>What is the scientific study of life called?</td>\n",
       "      <td>a: Chemistry | b: Biology | c: Physics | d: ...</td>\n",
       "      <td>b</td>\n",
       "    </tr>\n",
       "    <tr>\n",
       "      <th>1</th>\n",
       "      <td>What are all organisms made up of?</td>\n",
       "      <td>a: Molecules | b: Atoms | c: Cells | d: Tissues</td>\n",
       "      <td>c</td>\n",
       "    </tr>\n",
       "    <tr>\n",
       "      <th>2</th>\n",
       "      <td>What is the major theme that explains the uni...</td>\n",
       "      <td>a: Evolution | b: Genetics | c: Ecology | d: ...</td>\n",
       "      <td>a</td>\n",
       "    </tr>\n",
       "    <tr>\n",
       "      <th>3</th>\n",
       "      <td>What process allows organisms to move, grow, a...</td>\n",
       "      <td>a: Respiration | b: Photosynthesis | c: Ener...</td>\n",
       "      <td>c</td>\n",
       "    </tr>\n",
       "    <tr>\n",
       "      <th>4</th>\n",
       "      <td>What method do biologists use to make observa...</td>\n",
       "      <td>a: Scientific method | b: Guesswork | c: Tria...</td>\n",
       "      <td>a</td>\n",
       "    </tr>\n",
       "  </tbody>\n",
       "</table>\n",
       "</div>"
      ],
      "text/plain": [
       "                                                 MCQ  ... Correct\n",
       "0         What is the scientific study of life called?  ...       b\n",
       "1                   What are all organisms made up of?  ...       c\n",
       "2  What is the major theme that explains the uni...  ...       a\n",
       "3  What process allows organisms to move, grow, a...  ...       c\n",
       "4  What method do biologists use to make observa...  ...       a\n",
       "\n",
       "[5 rows x 3 columns]"
      ]
     },
     "execution_count": 21,
     "metadata": {},
     "output_type": "execute_result"
    }
   ],
   "source": [
    "quiz_df"
   ]
  },
  {
   "cell_type": "code",
   "execution_count": 22,
   "id": "4649521d",
   "metadata": {},
   "outputs": [],
   "source": [
    "quiz_df.to_csv(\"mcqgenerated_biology_quiz.csv\", index=False)"
   ]
  }
 ],
 "metadata": {
  "kernelspec": {
   "display_name": ".venv",
   "language": "python",
   "name": "python3"
  },
  "language_info": {
   "codemirror_mode": {
    "name": "ipython",
    "version": 3
   },
   "file_extension": ".py",
   "mimetype": "text/x-python",
   "name": "python",
   "nbconvert_exporter": "python",
   "pygments_lexer": "ipython3",
   "version": "3.11.10"
  }
 },
 "nbformat": 4,
 "nbformat_minor": 5
}
